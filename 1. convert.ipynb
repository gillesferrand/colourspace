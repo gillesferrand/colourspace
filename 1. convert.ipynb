{
 "cells": [
  {
   "cell_type": "markdown",
   "metadata": {},
   "source": [
    "# Conversions between colour spaces\n",
    "---\n",
    "This notebook is part 1/5 of a tutorial based on the [```colourspace```](https://github.com/gillesferrand/colourspace) package."
   ]
  },
  {
   "cell_type": "code",
   "execution_count": 1,
   "metadata": {
    "collapsed": false
   },
   "outputs": [
    {
     "name": "stdout",
     "output_type": "stream",
     "text": [
      "convertor = ' custom '\n"
     ]
    }
   ],
   "source": [
    "from colourspace import convert"
   ]
  },
  {
   "cell_type": "markdown",
   "metadata": {},
   "source": [
    "The ```convert``` module performs conversions between colour spaces."
   ]
  },
  {
   "cell_type": "markdown",
   "metadata": {},
   "source": [
    "## From perceptual LCH to machine RGB"
   ]
  },
  {
   "cell_type": "markdown",
   "metadata": {},
   "source": [
    "Our adopted perceptual colour space is LCH, the cylindrical parametrization of the CIE L\\*a\\*b\\* colour space. Its 3 coordinates are \n",
    "L = lightness in [0,100], \n",
    "C = chroma >= 0, \n",
    "H = hue angle in [0, 360].<br>\n",
    "When displayed on a digital screen, the colour model always is RGB, with R, G, B, the fraction of the Red, Green, Blue primaries, expressed in [0,1].<br>\n",
    "So we need to be able to easily convert coordinates between LCH and RGB."
   ]
  },
  {
   "cell_type": "markdown",
   "metadata": {},
   "source": [
    "The function ```LCH2RGB()``` takes a tuple (L,C,H) and returns a tuple (R,G,B)."
   ]
  },
  {
   "cell_type": "code",
   "execution_count": 2,
   "metadata": {
    "collapsed": false
   },
   "outputs": [
    {
     "name": "stdout",
     "output_type": "stream",
     "text": [
      "(0.57827564085034333, 0.29738641634601931, 0.98819126452258133)\n"
     ]
    }
   ],
   "source": [
    "L =  50 # mid-grey\n",
    "C = 100 # \n",
    "H = 310 # violet\n",
    "RGB = convert.LCH2RGB(L,C,H)\n",
    "print RGB"
   ]
  },
  {
   "cell_type": "markdown",
   "metadata": {},
   "source": [
    "This conversion actually involves 3 steps:<br>\n",
    "\\- from cylindrical LCH to Cartesian Lab<br>\n",
    "\\- from CIE Lab to CIE XYZ<br>\n",
    "(this step requires to set an illuminant, assumed to be the standard D65)<br>\n",
    "\\- from XYZ to sRGB"
   ]
  },
  {
   "cell_type": "code",
   "execution_count": 3,
   "metadata": {
    "collapsed": false
   },
   "outputs": [
    {
     "name": "stdout",
     "output_type": "stream",
     "text": [
      "LCH =  50 100 310\n",
      "Lab =  (50, 64.278760968653927, -76.604444311897808)\n",
      "XYZ =  (32.256265448524921, 18.418651851244416, 93.940775908218868)  for illuminant =  D65\n",
      "RGB =  (0.57827564085034333, 0.29738641634601931, 0.98819126452258133)\n"
     ]
    }
   ],
   "source": [
    "print \"LCH = \",L,C,H\n",
    "print \"Lab = \",convert.LCH2Lab((L,C,H))\n",
    "print \"XYZ = \",convert.Lab2XYZ(convert.LCH2Lab((L,C,H))),\" for illuminant = \",convert.illuminant\n",
    "print \"RGB = \",convert.XYZ2RGB(convert.Lab2XYZ(convert.LCH2Lab((L,C,H))))"
   ]
  },
  {
   "cell_type": "markdown",
   "metadata": {},
   "source": [
    "### Using other convertors"
   ]
  },
  {
   "cell_type": "markdown",
   "metadata": {},
   "source": [
    "The default convertor is 'custom', that is the formulas coded inside the module itself (taken from [www.easyrgb.com](http://www.easyrgb.com/en/math.php)).<br>\n",
    "It is possible to wire the ```LCH2RGB```/```RGB2LCH``` conversion functions to the functions provided by other colour packages, this has been done for [```colorspacious```](https://pypi.python.org/pypi/colorspacious/) and for [```colour```](https://github.com/colour-science/colour) by [colour-science.org](http://colour-science.org)."
   ]
  },
  {
   "cell_type": "code",
   "execution_count": 4,
   "metadata": {
    "collapsed": false
   },
   "outputs": [
    {
     "name": "stdout",
     "output_type": "stream",
     "text": [
      "convertor = ' colorspacious '\n"
     ]
    }
   ],
   "source": [
    "convert.set_convertor('colorspacious')"
   ]
  },
  {
   "cell_type": "code",
   "execution_count": 5,
   "metadata": {
    "collapsed": false
   },
   "outputs": [
    {
     "name": "stdout",
     "output_type": "stream",
     "text": [
      "[ 0.57827564  0.29738642  0.98819126]\n",
      "[  0.00000000e+00   5.55111512e-17   0.00000000e+00]\n"
     ]
    }
   ],
   "source": [
    "print convert.LCH2RGB(L,C,H)\n",
    "print convert.LCH2RGB(L,C,H)-RGB"
   ]
  },
  {
   "cell_type": "code",
   "execution_count": 6,
   "metadata": {
    "collapsed": false
   },
   "outputs": [
    {
     "name": "stdout",
     "output_type": "stream",
     "text": [
      "convertor = ' colourscience '\n"
     ]
    }
   ],
   "source": [
    "convert.set_convertor('colourscience')"
   ]
  },
  {
   "cell_type": "code",
   "execution_count": 7,
   "metadata": {
    "collapsed": false
   },
   "outputs": [
    {
     "name": "stdout",
     "output_type": "stream",
     "text": [
      "[ 0.57817373  0.2974125   0.98828389]\n",
      "[ -1.01910259e-04   2.60822285e-05   9.26254709e-05]\n"
     ]
    }
   ],
   "source": [
    "print convert.LCH2RGB(L,C,H)\n",
    "print convert.LCH2RGB(L,C,H)-RGB"
   ]
  },
  {
   "cell_type": "code",
   "execution_count": 8,
   "metadata": {
    "collapsed": false
   },
   "outputs": [
    {
     "name": "stdout",
     "output_type": "stream",
     "text": [
      "convertor = ' custom '\n"
     ]
    }
   ],
   "source": [
    "convert.set_convertor('custom')"
   ]
  },
  {
   "cell_type": "markdown",
   "metadata": {},
   "source": [
    "### Vectorization"
   ]
  },
  {
   "cell_type": "markdown",
   "metadata": {},
   "source": [
    "The conversion functions can be applied on a tuple of NumPy arrays of any (matching) shape, and will return a tuple of NumPy arrays of the same shape. You can stack these to get an array of tuples (for colour arrays, Matplotlib is expecting the RGBA channels to be the last index)."
   ]
  },
  {
   "cell_type": "code",
   "execution_count": 9,
   "metadata": {
    "collapsed": false
   },
   "outputs": [
    {
     "name": "stdout",
     "output_type": "stream",
     "text": [
      "L =  [   0.   10.   20.   30.   40.   50.   60.   70.   80.   90.  100.]\n",
      "C =  [   0.   20.   40.   60.   80.  100.   80.   60.   40.   20.    0.]\n",
      "H =  [ 310.  310.  310.  310.  310.  310.  310.  310.  310.  310.  310.]\n",
      "(R,G,B) =  (array([ 0.        ,  0.13317109,  0.23695082,  0.34596836,  0.45988744,\n",
      "        0.57827564,  0.68470904,  0.77685365,  0.85883743,  0.93280553,\n",
      "        1.00000107]), array([ 0.        ,  0.08601416,  0.13801624,  0.19042131,  0.2435057 ,\n",
      "        0.29738642,  0.444991  ,  0.58451027,  0.72229917,  0.86050645,\n",
      "        1.00003343]), array([ 0.        ,  0.18918312,  0.36723061,  0.561767  ,  0.76945424,\n",
      "        0.98819126,  0.99514548,  1.0000753 ,  1.00271025,  1.0027644 ,\n",
      "        0.99992724]))\n",
      "RGB =  [[ 0.          0.          0.        ]\n",
      " [ 0.13317109  0.08601416  0.18918312]\n",
      " [ 0.23695082  0.13801624  0.36723061]\n",
      " [ 0.34596836  0.19042131  0.561767  ]\n",
      " [ 0.45988744  0.2435057   0.76945424]\n",
      " [ 0.57827564  0.29738642  0.98819126]\n",
      " [ 0.68470904  0.444991    0.99514548]\n",
      " [ 0.77685365  0.58451027  1.0000753 ]\n",
      " [ 0.85883743  0.72229917  1.00271025]\n",
      " [ 0.93280553  0.86050645  1.0027644 ]\n",
      " [ 1.00000107  1.00003343  0.99992724]]\n"
     ]
    }
   ],
   "source": [
    "nx = 11\n",
    "L = np.linspace(0,100,nx)\n",
    "H = 310*np.ones(nx)\n",
    "C = (1-abs((L[:]-50)/50.)) * 100 # boost C at medium L, up to arbitrary value\n",
    "print \"L = \",L\n",
    "print \"C = \",C\n",
    "print \"H = \",H\n",
    "RGB = convert.LCH2RGB(L,C,H)\n",
    "print \"(R,G,B) = \",RGB\n",
    "RGB = np.stack(RGB,axis=-1)\n",
    "print \"RGB = \",RGB"
   ]
  },
  {
   "cell_type": "markdown",
   "metadata": {},
   "source": [
    "## Gamut control"
   ]
  },
  {
   "cell_type": "code",
   "execution_count": 10,
   "metadata": {
    "collapsed": false
   },
   "outputs": [
    {
     "name": "stdout",
     "output_type": "stream",
     "text": [
      "(1.0076014140783198, -0.83868814525600499, 0.48281361264041672)\n"
     ]
    }
   ],
   "source": [
    "L =  50 # mid-grey\n",
    "C = 100 # \n",
    "H = 360 # red\n",
    "RGB = convert.LCH2RGB(L,C,H)\n",
    "print RGB"
   ]
  },
  {
   "cell_type": "markdown",
   "metadata": {},
   "source": [
    "We got R&gt;1 and G&lt;0, so this triplet is not a valid colour: it lies outside of the sRGB gamut.<br>\n",
    "When this happens, we may either discard the colour entirely (by flagging it as invalid) or alter it so that it is representable (by restricting the values to the valid range). In this package I call these modes resp. \"crop\" and \"clip\"."
   ]
  },
  {
   "cell_type": "code",
   "execution_count": 11,
   "metadata": {
    "collapsed": false
   },
   "outputs": [
    {
     "data": {
      "text/plain": [
       "array([        nan,         nan,  0.48281361])"
      ]
     },
     "execution_count": 11,
     "metadata": {},
     "output_type": "execute_result"
    }
   ],
   "source": [
    "convert.crop3(RGB)"
   ]
  },
  {
   "cell_type": "code",
   "execution_count": 12,
   "metadata": {
    "collapsed": false
   },
   "outputs": [
    {
     "data": {
      "text/plain": [
       "array([ 1.        ,  0.        ,  0.48281361])"
      ]
     },
     "execution_count": 12,
     "metadata": {},
     "output_type": "execute_result"
    }
   ],
   "source": [
    "convert.clip3(RGB)"
   ]
  },
  {
   "cell_type": "markdown",
   "metadata": {},
   "source": [
    "Note that the ```crop3()``` and ```clip3()``` functions work on tuples, and return a NumPy array already stacked as expected by Matplotlib."
   ]
  },
  {
   "cell_type": "markdown",
   "metadata": {},
   "source": [
    "## Example of image making"
   ]
  },
  {
   "cell_type": "code",
   "execution_count": 13,
   "metadata": {
    "collapsed": true
   },
   "outputs": [],
   "source": [
    "%matplotlib inline\n",
    "import pylab as plt"
   ]
  },
  {
   "cell_type": "markdown",
   "metadata": {},
   "source": [
    "Using a ramp of L and random H:"
   ]
  },
  {
   "cell_type": "code",
   "execution_count": 14,
   "metadata": {
    "collapsed": false,
    "scrolled": true
   },
   "outputs": [
    {
     "data": {
      "text/plain": [
       "<matplotlib.image.AxesImage at 0x1029e3610>"
      ]
     },
     "execution_count": 14,
     "metadata": {},
     "output_type": "execute_result"
    },
    {
     "data": {
      "image/png": "[encoded data removed]",
      "text/plain": [
       "<matplotlib.figure.Figure at 0x119a2dd50>"
      ]
     },
     "metadata": {},
     "output_type": "display_data"
    }
   ],
   "source": [
    "nx = 101\n",
    "ny = 101\n",
    "L = np.tile(np.linspace(0,100,nx),(ny,1))\n",
    "H = 360*np.random.rand(nx,ny)\n",
    "C = (1-abs((L[:,:]-50)/50.)) * 100 # boost C at medium L, up to arbitrary value\n",
    "RGB = convert.clip3(convert.LCH2RGB(L,C,H))\n",
    "plt.imshow(RGB,origin='lower')"
   ]
  },
  {
   "cell_type": "markdown",
   "metadata": {},
   "source": [
    "Here we have made an educated guess for C. To be able to meaningfully design in LCH space, we need to know the gamut boundaries. This is explained in the next notebook."
   ]
  },
  {
   "cell_type": "markdown",
   "metadata": {},
   "source": [
    "---\n",
    "\n",
    "<a rel=\"license\" href=\"http://creativecommons.org/licenses/by-nc/4.0/\"><img align=\"left\" alt=\"Creative Commons License\" src=\"https://i.creativecommons.org/l/by-nc/4.0/88x31.png\" /></a><br>\n",
    "<br>Gilles Ferrand\n",
    "<br>2019-12-24"
   ]
  }
 ],
 "metadata": {
  "anaconda-cloud": {},
  "kernelspec": {
   "display_name": "Python [default]",
   "language": "python",
   "name": "python2"
  },
  "language_info": {
   "codemirror_mode": {
    "name": "ipython",
    "version": 2
   },
   "file_extension": ".py",
   "mimetype": "text/x-python",
   "name": "python",
   "nbconvert_exporter": "python",
   "pygments_lexer": "ipython2",
   "version": "2.7.12"
  }
 },
 "nbformat": 4,
 "nbformat_minor": 1
}
